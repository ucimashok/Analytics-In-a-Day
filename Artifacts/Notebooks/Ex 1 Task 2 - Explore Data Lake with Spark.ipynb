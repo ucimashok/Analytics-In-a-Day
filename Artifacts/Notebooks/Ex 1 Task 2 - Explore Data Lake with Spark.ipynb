{
  "nbformat": 4,
  "nbformat_minor": 2,
  "cells": [
    {
      "cell_type": "code",
      "execution_count": 4,
      "outputs": [],
      "metadata": {
        "microsoft": {
          "language": "python"
        },
        "collapsed": false
      },
      "source": [
        "%%pyspark\r\n",
        "df = spark.read.load('abfss://wwi@azsynapseaiddl.dfs.core.windows.net/factsale-parquet/2012/Q1/InvoiceDateKey=2012-01-01/part-00007-82fb0c25-17e0-4fc1-8f67-dd23466240a5.c000.snappy.parquet', format='parquet')\r\n",
        "display(df.limit(100))"
      ]
    },
    {
      "cell_type": "code",
      "execution_count": 3,
      "outputs": [],
      "metadata": {
        "jupyter": {
          "source_hidden": false,
          "outputs_hidden": false
        },
        "nteract": {
          "transient": {
            "deleting": false
          }
        },
        "collapsed": false
      },
      "source": [
        "data_path = spark.read.load(\r\n",
        "   'abfss://wwi@azsynapseaiddl.dfs.core.windows.net/factsale-csv/2012/Q1/*/*',\r\n",
        "   format='csv',\r\n",
        "   sep=\"|\",\r\n",
        "   header=True)\r\n",
        "\r\n",
        "display(data_path.limit(100))"
      ]
    }
  ],
  "metadata": {
    "save_output": true,
    "kernelspec": {
      "name": "synapse_pyspark",
      "display_name": "Synapse PySpark"
    },
    "language_info": {
      "name": "python"
    },
    "synapse_widget": {
      "version": "0.1"
    }
  }
}